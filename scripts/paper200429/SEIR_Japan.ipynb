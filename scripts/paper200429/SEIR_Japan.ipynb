{
  "nbformat": 4,
  "nbformat_minor": 0,
  "metadata": {
    "kernelspec": {
      "display_name": "Python 3",
      "language": "python",
      "name": "python3"
    },
    "language_info": {
      "codemirror_mode": {
        "name": "ipython",
        "version": 3
      },
      "file_extension": ".py",
      "mimetype": "text/x-python",
      "name": "python",
      "nbconvert_exporter": "python",
      "pygments_lexer": "ipython3",
      "version": "3.7.6"
    },
    "colab": {
      "name": "SEIR_Germany.ipynb",
      "provenance": []
    }
  },
  "cells": [
    {
      "cell_type": "code",
      "metadata": {
        "id": "UbRUc3F_Fsde",
        "colab_type": "code",
        "colab": {
          "base_uri": "https://localhost:8080/",
          "height": 207
        },
        "outputId": "c310ca27-b4f4-4dc5-c433-9b7eda371cc9"
      },
      "source": [
        "!pip install git+https://github.com/ichironakamoto/Japan.git"
      ],
      "execution_count": 1,
      "outputs": [
        {
          "output_type": "stream",
          "text": [
            "Collecting git+https://github.com/ichironakamoto/Japan.git\n",
            "  Cloning https://github.com/ichironakamoto/Japan.git to /tmp/pip-req-build-_zgdyd3e\n",
            "  Running command git clone -q https://github.com/ichironakamoto/Japan.git /tmp/pip-req-build-_zgdyd3e\n",
            "Building wheels for collected packages: covid19-inference\n",
            "  Building wheel for covid19-inference (setup.py) ... \u001b[?25l\u001b[?25hdone\n",
            "  Created wheel for covid19-inference: filename=covid19_inference-0.0.10-cp36-none-any.whl size=27625 sha256=77096197bb31a9856d06e90603806fddb13d5d5d3f6dbf992572bdb8912d54ca\n",
            "  Stored in directory: /tmp/pip-ephem-wheel-cache-qj7qwa8w/wheels/1e/a5/16/7d019c629951d7e8b52c76c794e547a19333680b3c6dbac3bd\n",
            "Successfully built covid19-inference\n",
            "Installing collected packages: covid19-inference\n",
            "Successfully installed covid19-inference-0.0.10\n"
          ],
          "name": "stdout"
        }
      ]
    },
    {
      "cell_type": "code",
      "metadata": {
        "id": "1nX6KbxtFk5j",
        "colab_type": "code",
        "colab": {
          "base_uri": "https://localhost:8080/",
          "height": 880
        },
        "outputId": "60090f52-ba48-47e8-de42-18bf1caadcb4"
      },
      "source": [
        "import sys\n",
        "sys.path.append('../..')\n",
        "import datetime\n",
        "import pickle\n",
        "\n",
        "import numpy as np\n",
        "import pymc3 as pm\n",
        "import matplotlib.pyplot as plt\n",
        "import scipy.stats\n",
        "import matplotlib\n",
        "\n",
        "try: \n",
        "    import covid19_inference as cov19\n",
        "except ModuleNotFoundError:\n",
        "    sys.path.append('..')\n",
        "    import covid19_inference as cov19\n",
        "    \n",
        "path_to_save = '../../figures/'\n",
        "path_save_pickled = '../../data/'\n",
        "rerun = True\n",
        "\n",
        "confirmed_cases = cov19.get_jhu_confirmed_cases()\n",
        "\n",
        "date_data_begin = datetime.datetime(2020,3,1)\n",
        "# date_data_end   = cov19.get_last_date(confirmed_cases)\n",
        "date_data_end = datetime.datetime(2020,4,21)\n",
        "num_days_data = (date_data_end-date_data_begin).days\n",
        "diff_data_sim = 12 # should be significantly larger than the expected delay, in \n",
        "                   # order to always fit the same number of data points.\n",
        "num_days_future = 21\n",
        "date_begin_sim = date_data_begin - datetime.timedelta(days = diff_data_sim)\n",
        "date_end_sim   = date_data_end   + datetime.timedelta(days = num_days_future)\n",
        "num_days_sim = (date_end_sim-date_begin_sim).days\n",
        "\n",
        "country = 'Germany'\n",
        "\n",
        "cases_obs = cov19.filter_one_country(confirmed_cases, country,\n",
        "                                     date_data_begin, date_data_end)\n",
        "\n",
        "prior_date_mild_dist_begin =  datetime.datetime(2020,3,9)\n",
        "prior_date_strong_dist_begin =  datetime.datetime(2020,3,16)\n",
        "prior_date_contact_ban_begin =  datetime.datetime(2020,3,23)\n",
        "\n",
        "change_points = [dict(pr_mean_date_begin_transient = prior_date_mild_dist_begin,\n",
        "                      pr_median_lambda = 1,\n",
        "                      pr_sigma_lambda = 1),\n",
        "                 dict(pr_mean_date_begin_transient = prior_date_strong_dist_begin,\n",
        "                      pr_sigma_date_begin_transient = 1,\n",
        "                      pr_median_lambda = 0.5,\n",
        "                      pr_sigma_lambda = 1),\n",
        "                 dict(pr_mean_date_begin_transient = prior_date_contact_ban_begin,\n",
        "                      pr_sigma_date_begin_transient = 1,\n",
        "                      pr_median_lambda = 0.25,\n",
        "                      pr_sigma_lambda = 1)]\n",
        "\n",
        "model = cov19.SEIR_with_extensions(np.diff(cases_obs),\n",
        "                                    change_points,\n",
        "                                    date_begin_sim,\n",
        "                                    num_days_sim,\n",
        "                                    diff_data_sim, \n",
        "                                    N=83e6,\n",
        "                                    priors_dict=None,\n",
        "                                    with_random_walk=False,\n",
        "                                    weekends_modulated=True,\n",
        "                                    weekend_modulation_type = 'abs_sine')\n",
        "\n",
        "if rerun:\n",
        "    trace = pm.sample(model=model, init='advi+adapt_diag', n_init=5000,draws=4000, tune=1000)\n",
        "\n",
        "    pickle.dump([model, trace], open('SEIR.pickled', 'wb'))\n",
        "\n",
        "else: \n",
        "    model, trace = pickle.load(open('SEIR.pickled', 'rb'))"
      ],
      "execution_count": 2,
      "outputs": [
        {
          "output_type": "stream",
          "text": [
            "INFO: This code is not longer developed, use our new module instead: github.com/Priesemann-Group/covid19_inference\n",
            "pr_beta_I_begin was set to default value 100\n",
            "pr_beta_E_begin_scale was set to default value 10\n",
            "pr_median_lambda_0 was set to default value 2\n",
            "pr_sigma_lambda_0 was set to default value 0.7\n",
            "pr_median_mu was set to default value 0.3333333333333333\n",
            "pr_sigma_mu was set to default value 0.3\n",
            "pr_median_delay was set to default value 5\n",
            "pr_sigma_delay was set to default value 0.2\n",
            "scale_delay was set to default value 0.3\n",
            "pr_beta_sigma_obs was set to default value 10\n",
            "pr_mean_median_incubation was set to default value 5\n",
            "pr_sigma_median_incubation was set to default value 1\n",
            "sigma_incubation was set to default value 0.418\n",
            "week_end_days was set to default value (6, 7)\n",
            "pr_mean_weekend_factor was set to default value 0.7\n",
            "pr_sigma_weekend_factor was set to default value 0.17\n",
            "pr_sigma_date_begin_transient of change point 0 was set to default value 3\n",
            "pr_median_transient_len of change point 0 was set to default value 3\n",
            "pr_median_transient_len of change point 1 was set to default value 3\n",
            "pr_median_transient_len of change point 2 was set to default value 3\n",
            "pr_sigma_transient_len of change point 0 was set to default value 0.3\n",
            "pr_sigma_transient_len of change point 1 was set to default value 0.3\n",
            "pr_sigma_transient_len of change point 2 was set to default value 0.3\n"
          ],
          "name": "stdout"
        },
        {
          "output_type": "stream",
          "text": [
            "Auto-assigning NUTS sampler...\n",
            "Initializing NUTS using advi+adapt_diag...\n",
            "WARNING (theano.tensor.blas): We did not find a dynamic library in the library_dir of the library we use for blas. If you use ATLAS, make sure to compile it with dynamics library.\n",
            "WARNING (theano.tensor.blas): We did not find a dynamic library in the library_dir of the library we use for blas. If you use ATLAS, make sure to compile it with dynamics library.\n",
            "Average Loss = 461.44:   9%|▊         | 17494/200000 [03:06<32:21, 93.98it/s]\n",
            "Convergence achieved at 17500\n",
            "Interrupted at 17,499 [8%]: Average Loss = 539.2\n",
            "Sequential sampling (2 chains in 1 job)\n",
            "NUTS: [offset_modulation_rad, weekend_factor, median_incubation, sigma_obs, delay, mu, transient_len_2, transient_len_1, transient_len_0, transient_begin_2, transient_begin_1, transient_begin_0, lambda_3, lambda_2, lambda_1, lambda_0, E_begin, E_begin_scale, I_begin]\n",
            "100%|██████████| 5000/5000 [1:51:12<00:00,  1.33s/it]\n",
            "100%|██████████| 5000/5000 [2:05:22<00:00,  1.50s/it]\n",
            "There was 1 divergence after tuning. Increase `target_accept` or reparameterize.\n",
            "The number of effective samples is smaller than 10% for some parameters.\n"
          ],
          "name": "stderr"
        },
        {
          "output_type": "error",
          "ename": "FileNotFoundError",
          "evalue": "ignored",
          "traceback": [
            "\u001b[0;31m---------------------------------------------------------------------------\u001b[0m",
            "\u001b[0;31mFileNotFoundError\u001b[0m                         Traceback (most recent call last)",
            "\u001b[0;32m<ipython-input-2-7acf7c2355fc>\u001b[0m in \u001b[0;36m<module>\u001b[0;34m()\u001b[0m\n\u001b[1;32m     68\u001b[0m     \u001b[0mtrace\u001b[0m \u001b[0;34m=\u001b[0m \u001b[0mpm\u001b[0m\u001b[0;34m.\u001b[0m\u001b[0msample\u001b[0m\u001b[0;34m(\u001b[0m\u001b[0mmodel\u001b[0m\u001b[0;34m=\u001b[0m\u001b[0mmodel\u001b[0m\u001b[0;34m,\u001b[0m \u001b[0minit\u001b[0m\u001b[0;34m=\u001b[0m\u001b[0;34m'advi+adapt_diag'\u001b[0m\u001b[0;34m,\u001b[0m \u001b[0mdraws\u001b[0m\u001b[0;34m=\u001b[0m\u001b[0;36m4000\u001b[0m\u001b[0;34m,\u001b[0m \u001b[0mtune\u001b[0m\u001b[0;34m=\u001b[0m\u001b[0;36m1000\u001b[0m\u001b[0;34m)\u001b[0m\u001b[0;34m\u001b[0m\u001b[0;34m\u001b[0m\u001b[0m\n\u001b[1;32m     69\u001b[0m \u001b[0;34m\u001b[0m\u001b[0m\n\u001b[0;32m---> 70\u001b[0;31m     \u001b[0mpickle\u001b[0m\u001b[0;34m.\u001b[0m\u001b[0mdump\u001b[0m\u001b[0;34m(\u001b[0m\u001b[0;34m[\u001b[0m\u001b[0mmodel\u001b[0m\u001b[0;34m,\u001b[0m \u001b[0mtrace\u001b[0m\u001b[0;34m]\u001b[0m\u001b[0;34m,\u001b[0m \u001b[0mopen\u001b[0m\u001b[0;34m(\u001b[0m\u001b[0mpath_save_pickled\u001b[0m \u001b[0;34m+\u001b[0m \u001b[0;34m'SEIR.pickled'\u001b[0m\u001b[0;34m,\u001b[0m \u001b[0;34m'wb'\u001b[0m\u001b[0;34m)\u001b[0m\u001b[0;34m)\u001b[0m\u001b[0;34m\u001b[0m\u001b[0;34m\u001b[0m\u001b[0m\n\u001b[0m\u001b[1;32m     71\u001b[0m \u001b[0;34m\u001b[0m\u001b[0m\n\u001b[1;32m     72\u001b[0m \u001b[0;32melse\u001b[0m\u001b[0;34m:\u001b[0m\u001b[0;34m\u001b[0m\u001b[0;34m\u001b[0m\u001b[0m\n",
            "\u001b[0;31mFileNotFoundError\u001b[0m: [Errno 2] No such file or directory: '../../data/SEIR.pickled'"
          ]
        }
      ]
    },
    {
      "cell_type": "code",
      "metadata": {
        "id": "RmuW_DUnH8Yz",
        "colab_type": "code",
        "colab": {
          "base_uri": "https://localhost:8080/",
          "height": 785
        },
        "outputId": "3ce0451b-9dad-4f5d-c991-e0fd149dd800"
      },
      "source": [
        "!pip install dvc"
      ],
      "execution_count": 2,
      "outputs": [
        {
          "output_type": "stream",
          "text": [
            "Requirement already satisfied: dvc in /usr/local/lib/python3.6/dist-packages (0.94.0)\n",
            "Requirement already satisfied: colorama>=0.3.9 in /usr/local/lib/python3.6/dist-packages (from dvc) (0.4.3)\n",
            "Requirement already satisfied: shortuuid>=0.5.0 in /usr/local/lib/python3.6/dist-packages (from dvc) (1.0.1)\n",
            "Requirement already satisfied: flatten-json>=0.1.6 in /usr/local/lib/python3.6/dist-packages (from dvc) (0.1.7)\n",
            "Requirement already satisfied: tqdm<5,>=4.45.0 in /usr/local/lib/python3.6/dist-packages (from dvc) (4.46.0)\n",
            "Requirement already satisfied: dpath<3,>=2.0.1 in /usr/local/lib/python3.6/dist-packages (from dvc) (2.0.1)\n",
            "Requirement already satisfied: treelib>=1.5.5 in /usr/local/lib/python3.6/dist-packages (from dvc) (1.6.1)\n",
            "Requirement already satisfied: zc.lockfile>=1.2.1 in /usr/local/lib/python3.6/dist-packages (from dvc) (2.0)\n",
            "Requirement already satisfied: jsonpath-ng>=1.5.1 in /usr/local/lib/python3.6/dist-packages (from dvc) (1.5.1)\n",
            "Requirement already satisfied: humanize>=0.5.1 in /usr/local/lib/python3.6/dist-packages (from dvc) (0.5.1)\n",
            "Requirement already satisfied: texttable>=0.5.2 in /usr/local/lib/python3.6/dist-packages (from dvc) (1.6.2)\n",
            "Requirement already satisfied: appdirs>=1.4.3 in /usr/local/lib/python3.6/dist-packages (from dvc) (1.4.4)\n",
            "Requirement already satisfied: configobj>=5.0.6 in /usr/local/lib/python3.6/dist-packages (from dvc) (5.0.6)\n",
            "Requirement already satisfied: grandalf==0.6 in /usr/local/lib/python3.6/dist-packages (from dvc) (0.6)\n",
            "Requirement already satisfied: ply>=3.9 in /usr/local/lib/python3.6/dist-packages (from dvc) (3.11)\n",
            "Requirement already satisfied: distro>=1.3.0 in /usr/local/lib/python3.6/dist-packages (from dvc) (1.5.0)\n",
            "Requirement already satisfied: packaging>=19.0 in /usr/local/lib/python3.6/dist-packages (from dvc) (20.4)\n",
            "Requirement already satisfied: setuptools>=34.0.0 in /usr/local/lib/python3.6/dist-packages (from dvc) (46.4.0)\n",
            "Requirement already satisfied: pathspec>=0.6.0 in /usr/local/lib/python3.6/dist-packages (from dvc) (0.8.0)\n",
            "Requirement already satisfied: requests>=2.22.0 in /usr/local/lib/python3.6/dist-packages (from dvc) (2.23.0)\n",
            "Requirement already satisfied: networkx<2.4,>=2.1 in /usr/local/lib/python3.6/dist-packages (from dvc) (2.3)\n",
            "Requirement already satisfied: flufl.lock>=3.2 in /usr/local/lib/python3.6/dist-packages (from dvc) (3.2)\n",
            "Requirement already satisfied: ruamel.yaml>=0.16.1 in /usr/local/lib/python3.6/dist-packages (from dvc) (0.16.10)\n",
            "Requirement already satisfied: pygtrie==2.3.2 in /usr/local/lib/python3.6/dist-packages (from dvc) (2.3.2)\n",
            "Requirement already satisfied: nanotime>=0.5.2 in /usr/local/lib/python3.6/dist-packages (from dvc) (0.5.2)\n",
            "Requirement already satisfied: pydot>=1.2.4 in /usr/local/lib/python3.6/dist-packages (from dvc) (1.3.0)\n",
            "Requirement already satisfied: gitpython>3 in /usr/local/lib/python3.6/dist-packages (from dvc) (3.1.2)\n",
            "Requirement already satisfied: inflect<4,>=2.1.0 in /usr/local/lib/python3.6/dist-packages (from dvc) (2.1.0)\n",
            "Requirement already satisfied: pyasn1>=0.4.1 in /usr/local/lib/python3.6/dist-packages (from dvc) (0.4.8)\n",
            "Requirement already satisfied: voluptuous>=0.11.7 in /usr/local/lib/python3.6/dist-packages (from dvc) (0.11.7)\n",
            "Requirement already satisfied: funcy>=1.14 in /usr/local/lib/python3.6/dist-packages (from dvc) (1.14)\n",
            "Requirement already satisfied: PyYAML<5.4,>=5.1.2 in /usr/local/lib/python3.6/dist-packages (from dvc) (5.3.1)\n",
            "Requirement already satisfied: future in /usr/local/lib/python3.6/dist-packages (from treelib>=1.5.5->dvc) (0.16.0)\n",
            "Requirement already satisfied: decorator in /usr/local/lib/python3.6/dist-packages (from jsonpath-ng>=1.5.1->dvc) (4.4.2)\n",
            "Requirement already satisfied: six in /usr/local/lib/python3.6/dist-packages (from jsonpath-ng>=1.5.1->dvc) (1.12.0)\n",
            "Requirement already satisfied: pyparsing in /usr/local/lib/python3.6/dist-packages (from grandalf==0.6->dvc) (2.4.7)\n",
            "Requirement already satisfied: idna<3,>=2.5 in /usr/local/lib/python3.6/dist-packages (from requests>=2.22.0->dvc) (2.9)\n",
            "Requirement already satisfied: chardet<4,>=3.0.2 in /usr/local/lib/python3.6/dist-packages (from requests>=2.22.0->dvc) (3.0.4)\n",
            "Requirement already satisfied: urllib3!=1.25.0,!=1.25.1,<1.26,>=1.21.1 in /usr/local/lib/python3.6/dist-packages (from requests>=2.22.0->dvc) (1.24.3)\n",
            "Requirement already satisfied: certifi>=2017.4.17 in /usr/local/lib/python3.6/dist-packages (from requests>=2.22.0->dvc) (2020.4.5.1)\n",
            "Requirement already satisfied: atpublic in /usr/local/lib/python3.6/dist-packages (from flufl.lock>=3.2->dvc) (1.0)\n",
            "Requirement already satisfied: ruamel.yaml.clib>=0.1.2; platform_python_implementation == \"CPython\" and python_version < \"3.9\" in /usr/local/lib/python3.6/dist-packages (from ruamel.yaml>=0.16.1->dvc) (0.2.0)\n",
            "Requirement already satisfied: gitdb<5,>=4.0.1 in /usr/local/lib/python3.6/dist-packages (from gitpython>3->dvc) (4.0.5)\n",
            "Requirement already satisfied: smmap<4,>=3.0.1 in /usr/local/lib/python3.6/dist-packages (from gitdb<5,>=4.0.1->gitpython>3->dvc) (3.0.4)\n"
          ],
          "name": "stdout"
        }
      ]
    },
    {
      "cell_type": "code",
      "metadata": {
        "id": "2KwQZA3NFk5t",
        "colab_type": "code",
        "colab": {}
      },
      "source": [
        "#exec(open('figures_revised.py').read())\n",
        "#matrix = pickle.loads(\n",
        "import dvc.api\n",
        "import requests\n",
        "\n",
        "\n",
        "r = requests.get('https://github.com/ichironakamoto/Japan/blob/master/figures_revised.py')\n",
        "exec('r')\n",
        "\n",
        "\n",
        "#create_figure_distributions(model, trace,\n",
        "#                            additional_insets = {'E_begin_scale': r\"$E_0 \\simeq \",\n",
        "#                                                 'median_incubation': r\"$D_{inc} \\simeq \"}, \n",
        "#                            xlim_lambda = (0, 4), color = 'tab:purple',\n",
        "#                            num_changepoints=3, save_to=path_to_save + 'Fig_SEIR_distr')\n",
        "#create_figure_timeseries(trace, 'tab:purple', num_days_futu_to_plot=21, y_lim_lambda = (-0.5, 4),\n",
        "#                       plot_red_axis=False, save_to=path_to_save + 'Fig_SEIR_cases')\n"
      ],
      "execution_count": 0,
      "outputs": []
    },
    {
      "cell_type": "code",
      "metadata": {
        "id": "4DZslPLoFk5y",
        "colab_type": "code",
        "colab": {
          "base_uri": "https://localhost:8080/",
          "height": 231
        },
        "outputId": "94863c25-7a1c-4e25-ff0e-ec343d9ceab0"
      },
      "source": [
        ""
      ],
      "execution_count": 24,
      "outputs": [
        {
          "output_type": "error",
          "ename": "NameError",
          "evalue": "ignored",
          "traceback": [
            "\u001b[0;31m---------------------------------------------------------------------------\u001b[0m",
            "\u001b[0;31mNameError\u001b[0m                                 Traceback (most recent call last)",
            "\u001b[0;32m<ipython-input-24-1ca9d7c3718d>\u001b[0m in \u001b[0;36m<module>\u001b[0;34m()\u001b[0m\n\u001b[0;32m----> 1\u001b[0;31m create_figure_distributions(model, trace,\n\u001b[0m\u001b[1;32m      2\u001b[0m                             additional_insets = {'E_begin_scale': r\"$E_0 \\simeq \",\n\u001b[1;32m      3\u001b[0m                                                  'median_incubation': r\"$D_{inc} \\simeq \"}, \n\u001b[1;32m      4\u001b[0m                             \u001b[0mxlim_lambda\u001b[0m \u001b[0;34m=\u001b[0m \u001b[0;34m(\u001b[0m\u001b[0;36m0\u001b[0m\u001b[0;34m,\u001b[0m \u001b[0;36m4\u001b[0m\u001b[0;34m)\u001b[0m\u001b[0;34m,\u001b[0m \u001b[0mcolor\u001b[0m \u001b[0;34m=\u001b[0m \u001b[0;34m'tab:purple'\u001b[0m\u001b[0;34m,\u001b[0m\u001b[0;34m\u001b[0m\u001b[0;34m\u001b[0m\u001b[0m\n\u001b[1;32m      5\u001b[0m                             num_changepoints=3, save_to=path_to_save + 'Fig_SEIR_distr')\n",
            "\u001b[0;31mNameError\u001b[0m: name 'create_figure_distributions' is not defined"
          ]
        }
      ]
    },
    {
      "cell_type": "code",
      "metadata": {
        "id": "irBpqHbAFk54",
        "colab_type": "code",
        "colab": {
          "base_uri": "https://localhost:8080/",
          "height": 163
        },
        "outputId": "9bf75d75-c1a9-4695-a410-2068f02b6f11"
      },
      "source": [
        "print(pm.loo(trace, model))"
      ],
      "execution_count": 34,
      "outputs": [
        {
          "output_type": "error",
          "ename": "NameError",
          "evalue": "ignored",
          "traceback": [
            "\u001b[0;31m---------------------------------------------------------------------------\u001b[0m",
            "\u001b[0;31mNameError\u001b[0m                                 Traceback (most recent call last)",
            "\u001b[0;32m<ipython-input-34-9c9082030457>\u001b[0m in \u001b[0;36m<module>\u001b[0;34m()\u001b[0m\n\u001b[0;32m----> 1\u001b[0;31m \u001b[0mprint\u001b[0m\u001b[0;34m(\u001b[0m\u001b[0mpm\u001b[0m\u001b[0;34m.\u001b[0m\u001b[0mloo\u001b[0m\u001b[0;34m(\u001b[0m\u001b[0mtrace\u001b[0m\u001b[0;34m,\u001b[0m \u001b[0mmodel\u001b[0m\u001b[0;34m)\u001b[0m\u001b[0;34m)\u001b[0m\u001b[0;34m\u001b[0m\u001b[0;34m\u001b[0m\u001b[0m\n\u001b[0m",
            "\u001b[0;31mNameError\u001b[0m: name 'pm' is not defined"
          ]
        }
      ]
    },
    {
      "cell_type": "code",
      "metadata": {
        "id": "RCLZlFFLFk59",
        "colab_type": "code",
        "colab": {
          "base_uri": "https://localhost:8080/",
          "height": 214
        },
        "outputId": "37e09188-9574-44ef-8457-8f8d1e9e030c"
      },
      "source": [
        "for j in range(4):\n",
        "    print(f'lambda* {j}')   \n",
        "    print(print_median_CI(trace[f\"lambda_{j}\"] - trace.mu, prec=2))"
      ],
      "execution_count": 35,
      "outputs": [
        {
          "output_type": "stream",
          "text": [
            "lambda* 0\n"
          ],
          "name": "stdout"
        },
        {
          "output_type": "error",
          "ename": "NameError",
          "evalue": "ignored",
          "traceback": [
            "\u001b[0;31m---------------------------------------------------------------------------\u001b[0m",
            "\u001b[0;31mNameError\u001b[0m                                 Traceback (most recent call last)",
            "\u001b[0;32m<ipython-input-35-d991739b1339>\u001b[0m in \u001b[0;36m<module>\u001b[0;34m()\u001b[0m\n\u001b[1;32m      1\u001b[0m \u001b[0;32mfor\u001b[0m \u001b[0mj\u001b[0m \u001b[0;32min\u001b[0m \u001b[0mrange\u001b[0m\u001b[0;34m(\u001b[0m\u001b[0;36m4\u001b[0m\u001b[0;34m)\u001b[0m\u001b[0;34m:\u001b[0m\u001b[0;34m\u001b[0m\u001b[0;34m\u001b[0m\u001b[0m\n\u001b[1;32m      2\u001b[0m     \u001b[0mprint\u001b[0m\u001b[0;34m(\u001b[0m\u001b[0;34mf'lambda* {j}'\u001b[0m\u001b[0;34m)\u001b[0m\u001b[0;34m\u001b[0m\u001b[0;34m\u001b[0m\u001b[0m\n\u001b[0;32m----> 3\u001b[0;31m     \u001b[0mprint\u001b[0m\u001b[0;34m(\u001b[0m\u001b[0mprint_median_CI\u001b[0m\u001b[0;34m(\u001b[0m\u001b[0mtrace\u001b[0m\u001b[0;34m[\u001b[0m\u001b[0;34mf\"lambda_{j}\"\u001b[0m\u001b[0;34m]\u001b[0m \u001b[0;34m-\u001b[0m \u001b[0mtrace\u001b[0m\u001b[0;34m.\u001b[0m\u001b[0mmu\u001b[0m\u001b[0;34m,\u001b[0m \u001b[0mprec\u001b[0m\u001b[0;34m=\u001b[0m\u001b[0;36m2\u001b[0m\u001b[0;34m)\u001b[0m\u001b[0;34m)\u001b[0m\u001b[0;34m\u001b[0m\u001b[0;34m\u001b[0m\u001b[0m\n\u001b[0m",
            "\u001b[0;31mNameError\u001b[0m: name 'print_median_CI' is not defined"
          ]
        }
      ]
    },
    {
      "cell_type": "code",
      "metadata": {
        "id": "P0s2-OTjFk6C",
        "colab_type": "code",
        "colab": {}
      },
      "source": [
        ""
      ],
      "execution_count": 0,
      "outputs": []
    }
  ]
}