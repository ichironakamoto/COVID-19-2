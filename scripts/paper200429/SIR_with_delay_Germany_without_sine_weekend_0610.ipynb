{
  "nbformat": 4,
  "nbformat_minor": 0,
  "metadata": {
    "kernelspec": {
      "display_name": "Python 3",
      "language": "python",
      "name": "python3"
    },
    "language_info": {
      "codemirror_mode": {
        "name": "ipython",
        "version": 3
      },
      "file_extension": ".py",
      "mimetype": "text/x-python",
      "name": "python",
      "nbconvert_exporter": "python",
      "pygments_lexer": "ipython3",
      "version": "3.7.6"
    },
    "pycharm": {
      "stem_cell": {
        "cell_type": "raw",
        "metadata": {
          "collapsed": false
        },
        "source": []
      }
    },
    "colab": {
      "name": "SIR_with_delay_Germany_without_sine_weekend.ipynb",
      "provenance": []
    }
  },
  "cells": [
    {
      "cell_type": "code",
      "metadata": {
        "id": "5mwWtL2rtsbm",
        "colab_type": "code",
        "colab": {
          "base_uri": "https://localhost:8080/",
          "height": 190
        },
        "outputId": "2edb0afb-2605-4497-f460-2ad1cd46060c"
      },
      "source": [
        "!pip install git+https://github.com/ichironakamoto/Japan.git"
      ],
      "execution_count": 24,
      "outputs": [
        {
          "output_type": "stream",
          "text": [
            "Collecting git+https://github.com/ichironakamoto/Japan.git\n",
            "  Cloning https://github.com/ichironakamoto/Japan.git to /tmp/pip-req-build-7cvwsq66\n",
            "  Running command git clone -q https://github.com/ichironakamoto/Japan.git /tmp/pip-req-build-7cvwsq66\n",
            "Requirement already satisfied (use --upgrade to upgrade): covid19-inference==0.0.10 from git+https://github.com/ichironakamoto/Japan.git in /usr/local/lib/python3.6/dist-packages\n",
            "Building wheels for collected packages: covid19-inference\n",
            "  Building wheel for covid19-inference (setup.py) ... \u001b[?25l\u001b[?25hdone\n",
            "  Created wheel for covid19-inference: filename=covid19_inference-0.0.10-cp36-none-any.whl size=27625 sha256=5c14ec8823f49315c184367e3306a3582c1442355e0c452a8538a590177dc5be\n",
            "  Stored in directory: /tmp/pip-ephem-wheel-cache-fcrb_z4f/wheels/1e/a5/16/7d019c629951d7e8b52c76c794e547a19333680b3c6dbac3bd\n",
            "Successfully built covid19-inference\n"
          ],
          "name": "stdout"
        }
      ]
    },
    {
      "cell_type": "code",
      "metadata": {
        "id": "myU-nQSotia9",
        "colab_type": "code",
        "colab": {}
      },
      "source": [
        "import datetime\n",
        "import time as time_module\n",
        "import sys\n",
        "import os \n",
        "import pickle\n",
        "\n",
        "import pandas as pd\n",
        "import numpy as np\n",
        "import matplotlib.pyplot as plt\n",
        "import scipy.stats\n",
        "import theano\n",
        "import matplotlib\n",
        "import pymc3 as pm\n",
        "import theano.tensor as tt\n",
        "\n",
        "\n",
        "\n",
        "try: \n",
        "    import covid19_inference as cov19\n",
        "except ModuleNotFoundError:\n",
        "    sys.path.append('../..')\n",
        "    import covid19_inference as cov19\n",
        "\n",
        "path_to_save = '../../figures/'\n",
        "path_save_pickled = '../../data/'\n",
        "rerun = True"
      ],
      "execution_count": 0,
      "outputs": []
    },
    {
      "cell_type": "code",
      "metadata": {
        "scrolled": true,
        "id": "0K3w7GXmtibJ",
        "colab_type": "code",
        "colab": {
          "base_uri": "https://localhost:8080/",
          "height": 496
        },
        "outputId": "527e1fd2-1f9b-4116-a821-ebdf5c309772"
      },
      "source": [
        "\n",
        "confirmed_cases = cov19.get_jhu_confirmed_cases()\n",
        "\n",
        "country = 'Germany'\n",
        "date_data_begin = datetime.datetime(2020,3,1)\n",
        "# date_data_end   = cov19.get_last_date(confirmed_cases)\n",
        "date_data_end = datetime.datetime(2020,4,21)\n",
        "\n",
        "#date_data_end   = datetime.datetime(2020,3,28)\n",
        "num_days_data = (date_data_end-date_data_begin).days\n",
        "diff_data_sim = 16 # should be significantly larger than the expected delay, in \n",
        "                   # order to always fit the same number of data points.\n",
        "num_days_future = 28\n",
        "date_begin_sim = date_data_begin - datetime.timedelta(days = diff_data_sim)\n",
        "date_end_sim   = date_data_end   + datetime.timedelta(days = num_days_future)\n",
        "num_days_sim = (date_end_sim-date_begin_sim).days\n",
        "\n",
        "\n",
        "cases_obs = cov19.filter_one_country(confirmed_cases, country,\n",
        "                                     date_data_begin, date_data_end)\n",
        "\n",
        "print('Cases yesterday ({}): {} and '\n",
        "      'day before yesterday: {}'.format(date_data_end.isoformat(), *cases_obs[:-3:-1]))\n",
        "\n",
        "prior_date_mild_dist_begin =  datetime.datetime(2020,3,9)\n",
        "prior_date_strong_dist_begin =  datetime.datetime(2020,3,16)\n",
        "prior_date_contact_ban_begin =  datetime.datetime(2020,3,23)\n",
        "\n",
        "change_points = [dict(pr_mean_date_begin_transient = prior_date_mild_dist_begin,\n",
        "                      pr_sigma_date_begin_transient = 3,\n",
        "                      pr_median_lambda = 0.2,\n",
        "                      pr_sigma_lambda = 0.5),\n",
        "                 dict(pr_mean_date_begin_transient = prior_date_strong_dist_begin,\n",
        "                      pr_sigma_date_begin_transient = 1,\n",
        "                      pr_median_lambda = 1/8,\n",
        "                      pr_sigma_lambda = 0.5),\n",
        "                 dict(pr_mean_date_begin_transient = prior_date_contact_ban_begin,\n",
        "                      pr_sigma_date_begin_transient = 1,\n",
        "                      pr_median_lambda = 1/8/2,\n",
        "                      pr_sigma_lambda = 0.5)]\n",
        "\n",
        "start = pm.find_MAP()\n",
        "step = pm.Metropolis()\n",
        "\n",
        "\n",
        "if rerun:\n",
        "\n",
        "    traces = []\n",
        "    models = []\n",
        "\n",
        "    for num_change_points in range(4):\n",
        "        model = cov19.SIR_with_change_points(new_cases_obs = np.diff(cases_obs),\n",
        "                                            change_points_list = change_points[:num_change_points],\n",
        "                                            date_begin_simulation = date_begin_sim,\n",
        "                                            num_days_sim = num_days_sim,\n",
        "                                            diff_data_sim = diff_data_sim,\n",
        "                                            N = 83e6,\n",
        "                                            priors_dict=None,\n",
        "                                            weekends_modulated=False)\n",
        "        models.append(model)\n",
        "        traces.append(pm.sample(model=model, init='advi', n_init=6000,draws=4000, step=step, start=start))\n",
        "\n",
        "\n",
        "    pickle.dump([models, traces], open(path_save_pickled + 'SIR_without_sine2.pickled', 'wb'))\n",
        "\n",
        "else: \n",
        "    models, traces = pickle.load(open(path_save_pickled + 'SIR_without_sine2.pickled', 'rb'))\n",
        "\n",
        "    "
      ],
      "execution_count": 26,
      "outputs": [
        {
          "output_type": "stream",
          "text": [
            "Cases yesterday (2020-04-21T00:00:00): 148291 and day before yesterday: 147065\n"
          ],
          "name": "stdout"
        },
        {
          "output_type": "stream",
          "text": [
            "/usr/local/lib/python3.6/dist-packages/pymc3/tuning/starting.py:61: UserWarning: find_MAP should not be used to initialize the NUTS sampler, simply call pymc3.sample() and it will automatically initialize NUTS in a better way.\n",
            "  warnings.warn('find_MAP should not be used to initialize the NUTS sampler, simply call pymc3.sample() and it will automatically initialize NUTS in a better way.')\n"
          ],
          "name": "stderr"
        },
        {
          "output_type": "error",
          "ename": "TypeError",
          "evalue": "ignored",
          "traceback": [
            "\u001b[0;31m---------------------------------------------------------------------------\u001b[0m",
            "\u001b[0;31mIndexError\u001b[0m                                Traceback (most recent call last)",
            "\u001b[0;32m/usr/local/lib/python3.6/dist-packages/pymc3/model.py\u001b[0m in \u001b[0;36mget_context\u001b[0;34m(cls)\u001b[0m\n\u001b[1;32m    185\u001b[0m         \u001b[0;32mtry\u001b[0m\u001b[0;34m:\u001b[0m\u001b[0;34m\u001b[0m\u001b[0;34m\u001b[0m\u001b[0m\n\u001b[0;32m--> 186\u001b[0;31m             \u001b[0;32mreturn\u001b[0m \u001b[0mcls\u001b[0m\u001b[0;34m.\u001b[0m\u001b[0mget_contexts\u001b[0m\u001b[0;34m(\u001b[0m\u001b[0;34m)\u001b[0m\u001b[0;34m[\u001b[0m\u001b[0;34m-\u001b[0m\u001b[0;36m1\u001b[0m\u001b[0;34m]\u001b[0m\u001b[0;34m\u001b[0m\u001b[0;34m\u001b[0m\u001b[0m\n\u001b[0m\u001b[1;32m    187\u001b[0m         \u001b[0;32mexcept\u001b[0m \u001b[0mIndexError\u001b[0m\u001b[0;34m:\u001b[0m\u001b[0;34m\u001b[0m\u001b[0;34m\u001b[0m\u001b[0m\n",
            "\u001b[0;31mIndexError\u001b[0m: list index out of range",
            "\nDuring handling of the above exception, another exception occurred:\n",
            "\u001b[0;31mTypeError\u001b[0m                                 Traceback (most recent call last)",
            "\u001b[0;32m<ipython-input-26-2927c53fddb3>\u001b[0m in \u001b[0;36m<module>\u001b[0;34m()\u001b[0m\n\u001b[1;32m     40\u001b[0m                       pr_sigma_lambda = 0.5)]\n\u001b[1;32m     41\u001b[0m \u001b[0;34m\u001b[0m\u001b[0m\n\u001b[0;32m---> 42\u001b[0;31m \u001b[0mstart\u001b[0m \u001b[0;34m=\u001b[0m \u001b[0mpm\u001b[0m\u001b[0;34m.\u001b[0m\u001b[0mfind_MAP\u001b[0m\u001b[0;34m(\u001b[0m\u001b[0;34m)\u001b[0m\u001b[0;34m\u001b[0m\u001b[0;34m\u001b[0m\u001b[0m\n\u001b[0m\u001b[1;32m     43\u001b[0m \u001b[0mstep\u001b[0m \u001b[0;34m=\u001b[0m \u001b[0mpm\u001b[0m\u001b[0;34m.\u001b[0m\u001b[0mMetropolis\u001b[0m\u001b[0;34m(\u001b[0m\u001b[0;34m)\u001b[0m\u001b[0;34m\u001b[0m\u001b[0;34m\u001b[0m\u001b[0m\n\u001b[1;32m     44\u001b[0m \u001b[0;34m\u001b[0m\u001b[0m\n",
            "\u001b[0;32m/usr/local/lib/python3.6/dist-packages/pymc3/tuning/starting.py\u001b[0m in \u001b[0;36mfind_MAP\u001b[0;34m(start, vars, method, return_raw, include_transformed, progressbar, maxeval, model, *args, **kwargs)\u001b[0m\n\u001b[1;32m     61\u001b[0m     \u001b[0mwarnings\u001b[0m\u001b[0;34m.\u001b[0m\u001b[0mwarn\u001b[0m\u001b[0;34m(\u001b[0m\u001b[0;34m'find_MAP should not be used to initialize the NUTS sampler, simply call pymc3.sample() and it will automatically initialize NUTS in a better way.'\u001b[0m\u001b[0;34m)\u001b[0m\u001b[0;34m\u001b[0m\u001b[0;34m\u001b[0m\u001b[0m\n\u001b[1;32m     62\u001b[0m \u001b[0;34m\u001b[0m\u001b[0m\n\u001b[0;32m---> 63\u001b[0;31m     \u001b[0mmodel\u001b[0m \u001b[0;34m=\u001b[0m \u001b[0mmodelcontext\u001b[0m\u001b[0;34m(\u001b[0m\u001b[0mmodel\u001b[0m\u001b[0;34m)\u001b[0m\u001b[0;34m\u001b[0m\u001b[0;34m\u001b[0m\u001b[0m\n\u001b[0m\u001b[1;32m     64\u001b[0m     \u001b[0;32mif\u001b[0m \u001b[0mstart\u001b[0m \u001b[0;32mis\u001b[0m \u001b[0;32mNone\u001b[0m\u001b[0;34m:\u001b[0m\u001b[0;34m\u001b[0m\u001b[0;34m\u001b[0m\u001b[0m\n\u001b[1;32m     65\u001b[0m         \u001b[0mstart\u001b[0m \u001b[0;34m=\u001b[0m \u001b[0mmodel\u001b[0m\u001b[0;34m.\u001b[0m\u001b[0mtest_point\u001b[0m\u001b[0;34m\u001b[0m\u001b[0;34m\u001b[0m\u001b[0m\n",
            "\u001b[0;32m/usr/local/lib/python3.6/dist-packages/pymc3/model.py\u001b[0m in \u001b[0;36mmodelcontext\u001b[0;34m(model)\u001b[0m\n\u001b[1;32m    194\u001b[0m     \"\"\"\n\u001b[1;32m    195\u001b[0m     \u001b[0;32mif\u001b[0m \u001b[0mmodel\u001b[0m \u001b[0;32mis\u001b[0m \u001b[0;32mNone\u001b[0m\u001b[0;34m:\u001b[0m\u001b[0;34m\u001b[0m\u001b[0;34m\u001b[0m\u001b[0m\n\u001b[0;32m--> 196\u001b[0;31m         \u001b[0;32mreturn\u001b[0m \u001b[0mModel\u001b[0m\u001b[0;34m.\u001b[0m\u001b[0mget_context\u001b[0m\u001b[0;34m(\u001b[0m\u001b[0;34m)\u001b[0m\u001b[0;34m\u001b[0m\u001b[0;34m\u001b[0m\u001b[0m\n\u001b[0m\u001b[1;32m    197\u001b[0m     \u001b[0;32mreturn\u001b[0m \u001b[0mmodel\u001b[0m\u001b[0;34m\u001b[0m\u001b[0;34m\u001b[0m\u001b[0m\n\u001b[1;32m    198\u001b[0m \u001b[0;34m\u001b[0m\u001b[0m\n",
            "\u001b[0;32m/usr/local/lib/python3.6/dist-packages/pymc3/model.py\u001b[0m in \u001b[0;36mget_context\u001b[0;34m(cls)\u001b[0m\n\u001b[1;32m    186\u001b[0m             \u001b[0;32mreturn\u001b[0m \u001b[0mcls\u001b[0m\u001b[0;34m.\u001b[0m\u001b[0mget_contexts\u001b[0m\u001b[0;34m(\u001b[0m\u001b[0;34m)\u001b[0m\u001b[0;34m[\u001b[0m\u001b[0;34m-\u001b[0m\u001b[0;36m1\u001b[0m\u001b[0;34m]\u001b[0m\u001b[0;34m\u001b[0m\u001b[0;34m\u001b[0m\u001b[0m\n\u001b[1;32m    187\u001b[0m         \u001b[0;32mexcept\u001b[0m \u001b[0mIndexError\u001b[0m\u001b[0;34m:\u001b[0m\u001b[0;34m\u001b[0m\u001b[0;34m\u001b[0m\u001b[0m\n\u001b[0;32m--> 188\u001b[0;31m             \u001b[0;32mraise\u001b[0m \u001b[0mTypeError\u001b[0m\u001b[0;34m(\u001b[0m\u001b[0;34m\"No context on context stack\"\u001b[0m\u001b[0;34m)\u001b[0m\u001b[0;34m\u001b[0m\u001b[0;34m\u001b[0m\u001b[0m\n\u001b[0m\u001b[1;32m    189\u001b[0m \u001b[0;34m\u001b[0m\u001b[0m\n\u001b[1;32m    190\u001b[0m \u001b[0;34m\u001b[0m\u001b[0m\n",
            "\u001b[0;31mTypeError\u001b[0m: No context on context stack"
          ]
        }
      ]
    },
    {
      "cell_type": "code",
      "metadata": {
        "id": "pJNAZiKbtibT",
        "colab_type": "code",
        "colab": {}
      },
      "source": [
        "exec(open('figures_revised_old_layout.py').read())\n"
      ],
      "execution_count": 0,
      "outputs": []
    },
    {
      "cell_type": "code",
      "metadata": {
        "id": "WCSGBLSotibY",
        "colab_type": "code",
        "colab": {}
      },
      "source": [
        "trace = traces[0]\n",
        "fig, ax = plt.subplots(figsize=(5,4))\n",
        "time = np.arange(-len(cases_obs)+1, 0)\n",
        "mpl_dates = conv_time_to_mpl_dates(time) \n",
        "ax.plot(mpl_dates, np.abs(np.median(trace.new_cases[:, :num_days_data], axis=0) - np.diff(cases_obs)), \n",
        "        'd', markersize=6,\n",
        "         label='Absolute difference\\n'\n",
        "               'between fit and data')\n",
        "ax.plot(mpl_dates, np.sqrt(np.median(trace.new_cases[:, :num_days_data], axis=0))*np.median(trace.sigma_obs, axis=0),\n",
        "         label='Width of the likelihood', lw=3)\n",
        "ax.set_ylabel('Difference (number of new cases)')\n",
        "ax.set_xlabel('Date')\n",
        "ax.legend(loc='upper left')\n",
        "print(np.median(np.sum(trace.new_cases[:, :num_days_data], axis=1)+ trace.I_begin))\n",
        "#plt.tight_layout()\n",
        "ax.xaxis.set_major_locator(matplotlib.dates.AutoDateLocator())\n",
        "ax.xaxis.set_major_formatter(matplotlib.dates.DateFormatter('%-m/%-d'))\n"
      ],
      "execution_count": 0,
      "outputs": []
    },
    {
      "cell_type": "code",
      "metadata": {
        "id": "QBU2PR1Ftibd",
        "colab_type": "code",
        "colab": {}
      },
      "source": [
        "print(len(models), len(traces))\n",
        "create_figure_distributions(models[3], traces[3],\n",
        "                              additional_insets = None, xlim_lambda = (0, 0.53), color = 'tab:cyan',\n",
        "                              num_changepoints=3, xlim_tbegin=7, save_to = path_to_save +'Fig_SIR_without_sine_weekend_dist')\n"
      ],
      "execution_count": 0,
      "outputs": []
    },
    {
      "cell_type": "code",
      "metadata": {
        "id": "KQLA2p_3tibk",
        "colab_type": "code",
        "colab": {}
      },
      "source": [
        "create_figure_timeseries(traces[3], 'tab:cyan',\n",
        "                       plot_red_axis=True, save_to = path_to_save +'Fig_SIR_without_sine_weekend_cases')\n"
      ],
      "execution_count": 0,
      "outputs": []
    },
    {
      "cell_type": "code",
      "metadata": {
        "id": "-0tHMbcPtibr",
        "colab_type": "code",
        "colab": {}
      },
      "source": [
        "print('\\n0 step model\\n')\n",
        "print(pm.loo(traces[0], models[0]))\n",
        "\n",
        "print('\\n1 step model\\n')\n",
        "print(pm.loo(traces[1], models[1]))\n",
        "\n",
        "print('\\n2 steps model\\n')\n",
        "print(pm.loo(traces[2], models[2]))\n",
        "\n",
        "print('\\n3 steps model\\n')\n",
        "print(pm.loo(traces[3], models[3]))"
      ],
      "execution_count": 0,
      "outputs": []
    },
    {
      "cell_type": "code",
      "metadata": {
        "id": "wC88feC0tib0",
        "colab_type": "code",
        "colab": {}
      },
      "source": [
        "for j in range(4):\n",
        "    print(f'lambda* {j}')   \n",
        "    print(print_median_CI(traces[0][f\"lambda_{j}\"] - traces[0].mu, prec=2))"
      ],
      "execution_count": 0,
      "outputs": []
    },
    {
      "cell_type": "code",
      "metadata": {
        "id": "m3bR9ebxtib6",
        "colab_type": "code",
        "colab": {}
      },
      "source": [
        ""
      ],
      "execution_count": 0,
      "outputs": []
    }
  ]
}